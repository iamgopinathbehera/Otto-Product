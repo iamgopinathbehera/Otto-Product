{
 "cells": [
  {
   "cell_type": "markdown",
   "id": "f5aed4c7",
   "metadata": {},
   "source": [
    "#### Import the libraries"
   ]
  },
  {
   "cell_type": "code",
   "execution_count": 3,
   "id": "2e24ba76",
   "metadata": {},
   "outputs": [],
   "source": [
    "import pandas as pd   # data preprocessing\n",
    "import numpy as np    # mathematical computation\n",
    "import matplotlib.pyplot as plt  # vizualization\n",
    "import seaborn as sns  # vizualization"
   ]
  },
  {
   "cell_type": "markdown",
   "id": "b69f1739",
   "metadata": {},
   "source": [
    "#### Read the dataset"
   ]
  },
  {
   "cell_type": "code",
   "execution_count": 5,
   "id": "da401fa7",
   "metadata": {},
   "outputs": [
    {
     "name": "stdout",
     "output_type": "stream",
     "text": [
      "(61878, 95)\n",
      "(144368, 94)\n"
     ]
    }
   ],
   "source": [
    "train_df = pd.read_csv('otto_product_train.csv')\n",
    "test_df = pd.read_csv('otto_product_test.csv')\n",
    "print(train_df.shape)   # rows - 61878, cols - 95  - (Target variable is present)\n",
    "print(test_df.shape)    # rows - 144368, cols - 94"
   ]
  },
  {
   "cell_type": "code",
   "execution_count": 6,
   "id": "00e2ca69",
   "metadata": {},
   "outputs": [
    {
     "data": {
      "text/html": [
       "<div>\n",
       "<style scoped>\n",
       "    .dataframe tbody tr th:only-of-type {\n",
       "        vertical-align: middle;\n",
       "    }\n",
       "\n",
       "    .dataframe tbody tr th {\n",
       "        vertical-align: top;\n",
       "    }\n",
       "\n",
       "    .dataframe thead th {\n",
       "        text-align: right;\n",
       "    }\n",
       "</style>\n",
       "<table border=\"1\" class=\"dataframe\">\n",
       "  <thead>\n",
       "    <tr style=\"text-align: right;\">\n",
       "      <th></th>\n",
       "      <th>id</th>\n",
       "      <th>feat_1</th>\n",
       "      <th>feat_2</th>\n",
       "      <th>feat_3</th>\n",
       "      <th>feat_4</th>\n",
       "      <th>feat_5</th>\n",
       "      <th>feat_6</th>\n",
       "      <th>feat_7</th>\n",
       "      <th>feat_8</th>\n",
       "      <th>feat_9</th>\n",
       "      <th>...</th>\n",
       "      <th>feat_85</th>\n",
       "      <th>feat_86</th>\n",
       "      <th>feat_87</th>\n",
       "      <th>feat_88</th>\n",
       "      <th>feat_89</th>\n",
       "      <th>feat_90</th>\n",
       "      <th>feat_91</th>\n",
       "      <th>feat_92</th>\n",
       "      <th>feat_93</th>\n",
       "      <th>target</th>\n",
       "    </tr>\n",
       "  </thead>\n",
       "  <tbody>\n",
       "    <tr>\n",
       "      <th>0</th>\n",
       "      <td>1</td>\n",
       "      <td>1</td>\n",
       "      <td>0</td>\n",
       "      <td>0</td>\n",
       "      <td>0</td>\n",
       "      <td>0</td>\n",
       "      <td>0</td>\n",
       "      <td>0</td>\n",
       "      <td>0</td>\n",
       "      <td>0</td>\n",
       "      <td>...</td>\n",
       "      <td>1</td>\n",
       "      <td>0</td>\n",
       "      <td>0</td>\n",
       "      <td>0</td>\n",
       "      <td>0</td>\n",
       "      <td>0</td>\n",
       "      <td>0</td>\n",
       "      <td>0</td>\n",
       "      <td>0</td>\n",
       "      <td>Class_1</td>\n",
       "    </tr>\n",
       "    <tr>\n",
       "      <th>1</th>\n",
       "      <td>2</td>\n",
       "      <td>0</td>\n",
       "      <td>0</td>\n",
       "      <td>0</td>\n",
       "      <td>0</td>\n",
       "      <td>0</td>\n",
       "      <td>0</td>\n",
       "      <td>0</td>\n",
       "      <td>1</td>\n",
       "      <td>0</td>\n",
       "      <td>...</td>\n",
       "      <td>0</td>\n",
       "      <td>0</td>\n",
       "      <td>0</td>\n",
       "      <td>0</td>\n",
       "      <td>0</td>\n",
       "      <td>0</td>\n",
       "      <td>0</td>\n",
       "      <td>0</td>\n",
       "      <td>0</td>\n",
       "      <td>Class_1</td>\n",
       "    </tr>\n",
       "    <tr>\n",
       "      <th>2</th>\n",
       "      <td>3</td>\n",
       "      <td>0</td>\n",
       "      <td>0</td>\n",
       "      <td>0</td>\n",
       "      <td>0</td>\n",
       "      <td>0</td>\n",
       "      <td>0</td>\n",
       "      <td>0</td>\n",
       "      <td>1</td>\n",
       "      <td>0</td>\n",
       "      <td>...</td>\n",
       "      <td>0</td>\n",
       "      <td>0</td>\n",
       "      <td>0</td>\n",
       "      <td>0</td>\n",
       "      <td>0</td>\n",
       "      <td>0</td>\n",
       "      <td>0</td>\n",
       "      <td>0</td>\n",
       "      <td>0</td>\n",
       "      <td>Class_1</td>\n",
       "    </tr>\n",
       "    <tr>\n",
       "      <th>3</th>\n",
       "      <td>4</td>\n",
       "      <td>1</td>\n",
       "      <td>0</td>\n",
       "      <td>0</td>\n",
       "      <td>1</td>\n",
       "      <td>6</td>\n",
       "      <td>1</td>\n",
       "      <td>5</td>\n",
       "      <td>0</td>\n",
       "      <td>0</td>\n",
       "      <td>...</td>\n",
       "      <td>0</td>\n",
       "      <td>1</td>\n",
       "      <td>2</td>\n",
       "      <td>0</td>\n",
       "      <td>0</td>\n",
       "      <td>0</td>\n",
       "      <td>0</td>\n",
       "      <td>0</td>\n",
       "      <td>0</td>\n",
       "      <td>Class_1</td>\n",
       "    </tr>\n",
       "    <tr>\n",
       "      <th>4</th>\n",
       "      <td>5</td>\n",
       "      <td>0</td>\n",
       "      <td>0</td>\n",
       "      <td>0</td>\n",
       "      <td>0</td>\n",
       "      <td>0</td>\n",
       "      <td>0</td>\n",
       "      <td>0</td>\n",
       "      <td>0</td>\n",
       "      <td>0</td>\n",
       "      <td>...</td>\n",
       "      <td>1</td>\n",
       "      <td>0</td>\n",
       "      <td>0</td>\n",
       "      <td>0</td>\n",
       "      <td>0</td>\n",
       "      <td>1</td>\n",
       "      <td>0</td>\n",
       "      <td>0</td>\n",
       "      <td>0</td>\n",
       "      <td>Class_1</td>\n",
       "    </tr>\n",
       "  </tbody>\n",
       "</table>\n",
       "<p>5 rows × 95 columns</p>\n",
       "</div>"
      ],
      "text/plain": [
       "   id  feat_1  feat_2  feat_3  feat_4  feat_5  feat_6  feat_7  feat_8  feat_9  \\\n",
       "0   1       1       0       0       0       0       0       0       0       0   \n",
       "1   2       0       0       0       0       0       0       0       1       0   \n",
       "2   3       0       0       0       0       0       0       0       1       0   \n",
       "3   4       1       0       0       1       6       1       5       0       0   \n",
       "4   5       0       0       0       0       0       0       0       0       0   \n",
       "\n",
       "   ...  feat_85  feat_86  feat_87  feat_88  feat_89  feat_90  feat_91  \\\n",
       "0  ...        1        0        0        0        0        0        0   \n",
       "1  ...        0        0        0        0        0        0        0   \n",
       "2  ...        0        0        0        0        0        0        0   \n",
       "3  ...        0        1        2        0        0        0        0   \n",
       "4  ...        1        0        0        0        0        1        0   \n",
       "\n",
       "   feat_92  feat_93   target  \n",
       "0        0        0  Class_1  \n",
       "1        0        0  Class_1  \n",
       "2        0        0  Class_1  \n",
       "3        0        0  Class_1  \n",
       "4        0        0  Class_1  \n",
       "\n",
       "[5 rows x 95 columns]"
      ]
     },
     "execution_count": 6,
     "metadata": {},
     "output_type": "execute_result"
    }
   ],
   "source": [
    "train_df.head()"
   ]
  },
  {
   "cell_type": "code",
   "execution_count": 7,
   "id": "83419396",
   "metadata": {},
   "outputs": [
    {
     "data": {
      "text/html": [
       "<div>\n",
       "<style scoped>\n",
       "    .dataframe tbody tr th:only-of-type {\n",
       "        vertical-align: middle;\n",
       "    }\n",
       "\n",
       "    .dataframe tbody tr th {\n",
       "        vertical-align: top;\n",
       "    }\n",
       "\n",
       "    .dataframe thead th {\n",
       "        text-align: right;\n",
       "    }\n",
       "</style>\n",
       "<table border=\"1\" class=\"dataframe\">\n",
       "  <thead>\n",
       "    <tr style=\"text-align: right;\">\n",
       "      <th></th>\n",
       "      <th>id</th>\n",
       "      <th>feat_1</th>\n",
       "      <th>feat_2</th>\n",
       "      <th>feat_3</th>\n",
       "      <th>feat_4</th>\n",
       "      <th>feat_5</th>\n",
       "      <th>feat_6</th>\n",
       "      <th>feat_7</th>\n",
       "      <th>feat_8</th>\n",
       "      <th>feat_9</th>\n",
       "      <th>...</th>\n",
       "      <th>feat_84</th>\n",
       "      <th>feat_85</th>\n",
       "      <th>feat_86</th>\n",
       "      <th>feat_87</th>\n",
       "      <th>feat_88</th>\n",
       "      <th>feat_89</th>\n",
       "      <th>feat_90</th>\n",
       "      <th>feat_91</th>\n",
       "      <th>feat_92</th>\n",
       "      <th>feat_93</th>\n",
       "    </tr>\n",
       "  </thead>\n",
       "  <tbody>\n",
       "    <tr>\n",
       "      <th>0</th>\n",
       "      <td>1</td>\n",
       "      <td>0</td>\n",
       "      <td>0</td>\n",
       "      <td>0</td>\n",
       "      <td>0</td>\n",
       "      <td>0</td>\n",
       "      <td>0</td>\n",
       "      <td>0</td>\n",
       "      <td>0</td>\n",
       "      <td>0</td>\n",
       "      <td>...</td>\n",
       "      <td>0</td>\n",
       "      <td>0</td>\n",
       "      <td>11</td>\n",
       "      <td>1</td>\n",
       "      <td>20</td>\n",
       "      <td>0</td>\n",
       "      <td>0</td>\n",
       "      <td>0</td>\n",
       "      <td>0</td>\n",
       "      <td>0</td>\n",
       "    </tr>\n",
       "    <tr>\n",
       "      <th>1</th>\n",
       "      <td>2</td>\n",
       "      <td>2</td>\n",
       "      <td>2</td>\n",
       "      <td>14</td>\n",
       "      <td>16</td>\n",
       "      <td>0</td>\n",
       "      <td>0</td>\n",
       "      <td>0</td>\n",
       "      <td>0</td>\n",
       "      <td>0</td>\n",
       "      <td>...</td>\n",
       "      <td>0</td>\n",
       "      <td>0</td>\n",
       "      <td>0</td>\n",
       "      <td>0</td>\n",
       "      <td>0</td>\n",
       "      <td>4</td>\n",
       "      <td>0</td>\n",
       "      <td>0</td>\n",
       "      <td>2</td>\n",
       "      <td>0</td>\n",
       "    </tr>\n",
       "    <tr>\n",
       "      <th>2</th>\n",
       "      <td>3</td>\n",
       "      <td>0</td>\n",
       "      <td>1</td>\n",
       "      <td>12</td>\n",
       "      <td>1</td>\n",
       "      <td>0</td>\n",
       "      <td>0</td>\n",
       "      <td>0</td>\n",
       "      <td>0</td>\n",
       "      <td>0</td>\n",
       "      <td>...</td>\n",
       "      <td>0</td>\n",
       "      <td>0</td>\n",
       "      <td>0</td>\n",
       "      <td>0</td>\n",
       "      <td>2</td>\n",
       "      <td>0</td>\n",
       "      <td>0</td>\n",
       "      <td>0</td>\n",
       "      <td>0</td>\n",
       "      <td>1</td>\n",
       "    </tr>\n",
       "    <tr>\n",
       "      <th>3</th>\n",
       "      <td>4</td>\n",
       "      <td>0</td>\n",
       "      <td>0</td>\n",
       "      <td>0</td>\n",
       "      <td>1</td>\n",
       "      <td>0</td>\n",
       "      <td>0</td>\n",
       "      <td>0</td>\n",
       "      <td>0</td>\n",
       "      <td>0</td>\n",
       "      <td>...</td>\n",
       "      <td>0</td>\n",
       "      <td>3</td>\n",
       "      <td>1</td>\n",
       "      <td>0</td>\n",
       "      <td>0</td>\n",
       "      <td>0</td>\n",
       "      <td>0</td>\n",
       "      <td>0</td>\n",
       "      <td>0</td>\n",
       "      <td>0</td>\n",
       "    </tr>\n",
       "    <tr>\n",
       "      <th>4</th>\n",
       "      <td>5</td>\n",
       "      <td>1</td>\n",
       "      <td>0</td>\n",
       "      <td>0</td>\n",
       "      <td>1</td>\n",
       "      <td>0</td>\n",
       "      <td>0</td>\n",
       "      <td>1</td>\n",
       "      <td>2</td>\n",
       "      <td>0</td>\n",
       "      <td>...</td>\n",
       "      <td>0</td>\n",
       "      <td>0</td>\n",
       "      <td>0</td>\n",
       "      <td>0</td>\n",
       "      <td>0</td>\n",
       "      <td>0</td>\n",
       "      <td>0</td>\n",
       "      <td>9</td>\n",
       "      <td>0</td>\n",
       "      <td>0</td>\n",
       "    </tr>\n",
       "  </tbody>\n",
       "</table>\n",
       "<p>5 rows × 94 columns</p>\n",
       "</div>"
      ],
      "text/plain": [
       "   id  feat_1  feat_2  feat_3  feat_4  feat_5  feat_6  feat_7  feat_8  feat_9  \\\n",
       "0   1       0       0       0       0       0       0       0       0       0   \n",
       "1   2       2       2      14      16       0       0       0       0       0   \n",
       "2   3       0       1      12       1       0       0       0       0       0   \n",
       "3   4       0       0       0       1       0       0       0       0       0   \n",
       "4   5       1       0       0       1       0       0       1       2       0   \n",
       "\n",
       "   ...  feat_84  feat_85  feat_86  feat_87  feat_88  feat_89  feat_90  \\\n",
       "0  ...        0        0       11        1       20        0        0   \n",
       "1  ...        0        0        0        0        0        4        0   \n",
       "2  ...        0        0        0        0        2        0        0   \n",
       "3  ...        0        3        1        0        0        0        0   \n",
       "4  ...        0        0        0        0        0        0        0   \n",
       "\n",
       "   feat_91  feat_92  feat_93  \n",
       "0        0        0        0  \n",
       "1        0        2        0  \n",
       "2        0        0        1  \n",
       "3        0        0        0  \n",
       "4        9        0        0  \n",
       "\n",
       "[5 rows x 94 columns]"
      ]
     },
     "execution_count": 7,
     "metadata": {},
     "output_type": "execute_result"
    }
   ],
   "source": [
    "test_df.head()"
   ]
  },
  {
   "cell_type": "code",
   "execution_count": 8,
   "id": "b22b698d",
   "metadata": {},
   "outputs": [
    {
     "name": "stdout",
     "output_type": "stream",
     "text": [
      "Index(['id', 'feat_1', 'feat_2', 'feat_3', 'feat_4', 'feat_5', 'feat_6',\n",
      "       'feat_7', 'feat_8', 'feat_9', 'feat_10', 'feat_11', 'feat_12',\n",
      "       'feat_13', 'feat_14', 'feat_15', 'feat_16', 'feat_17', 'feat_18',\n",
      "       'feat_19', 'feat_20', 'feat_21', 'feat_22', 'feat_23', 'feat_24',\n",
      "       'feat_25', 'feat_26', 'feat_27', 'feat_28', 'feat_29', 'feat_30',\n",
      "       'feat_31', 'feat_32', 'feat_33', 'feat_34', 'feat_35', 'feat_36',\n",
      "       'feat_37', 'feat_38', 'feat_39', 'feat_40', 'feat_41', 'feat_42',\n",
      "       'feat_43', 'feat_44', 'feat_45', 'feat_46', 'feat_47', 'feat_48',\n",
      "       'feat_49', 'feat_50', 'feat_51', 'feat_52', 'feat_53', 'feat_54',\n",
      "       'feat_55', 'feat_56', 'feat_57', 'feat_58', 'feat_59', 'feat_60',\n",
      "       'feat_61', 'feat_62', 'feat_63', 'feat_64', 'feat_65', 'feat_66',\n",
      "       'feat_67', 'feat_68', 'feat_69', 'feat_70', 'feat_71', 'feat_72',\n",
      "       'feat_73', 'feat_74', 'feat_75', 'feat_76', 'feat_77', 'feat_78',\n",
      "       'feat_79', 'feat_80', 'feat_81', 'feat_82', 'feat_83', 'feat_84',\n",
      "       'feat_85', 'feat_86', 'feat_87', 'feat_88', 'feat_89', 'feat_90',\n",
      "       'feat_91', 'feat_92', 'feat_93', 'target'],\n",
      "      dtype='object')\n"
     ]
    }
   ],
   "source": [
    "print(train_df.columns)"
   ]
  },
  {
   "cell_type": "markdown",
   "id": "4f0ed1a6",
   "metadata": {},
   "source": [
    "### Data Preprocessing"
   ]
  },
  {
   "cell_type": "markdown",
   "id": "59d2f9ac",
   "metadata": {},
   "source": [
    "#### 1) Handle the null values"
   ]
  },
  {
   "cell_type": "code",
   "execution_count": 10,
   "id": "c6358668",
   "metadata": {},
   "outputs": [
    {
     "data": {
      "text/plain": [
       "Series([], dtype: int64)"
      ]
     },
     "execution_count": 10,
     "metadata": {},
     "output_type": "execute_result"
    }
   ],
   "source": [
    "train_nv = train_df.isnull().sum()\n",
    "train_nv[train_nv>0]"
   ]
  },
  {
   "cell_type": "code",
   "execution_count": 11,
   "id": "fd20ad1b",
   "metadata": {},
   "outputs": [
    {
     "data": {
      "text/plain": [
       "Series([], dtype: int64)"
      ]
     },
     "execution_count": 11,
     "metadata": {},
     "output_type": "execute_result"
    }
   ],
   "source": [
    "test_nv = test_df.isnull().sum()\n",
    "test_nv[test_nv>0]"
   ]
  },
  {
   "cell_type": "markdown",
   "id": "83389b37",
   "metadata": {},
   "source": [
    "#### Inference\n",
    "1) There are no null values in the train and the test data."
   ]
  },
  {
   "cell_type": "markdown",
   "id": "542ef0e9",
   "metadata": {},
   "source": [
    "#### 2) Handle the Duplicates"
   ]
  },
  {
   "cell_type": "code",
   "execution_count": 13,
   "id": "a8cc5afe",
   "metadata": {},
   "outputs": [
    {
     "data": {
      "text/plain": [
       "0"
      ]
     },
     "execution_count": 13,
     "metadata": {},
     "output_type": "execute_result"
    }
   ],
   "source": [
    "train_df.duplicated().sum()"
   ]
  },
  {
   "cell_type": "code",
   "execution_count": 14,
   "id": "49821e1d",
   "metadata": {},
   "outputs": [
    {
     "data": {
      "text/plain": [
       "0"
      ]
     },
     "execution_count": 14,
     "metadata": {},
     "output_type": "execute_result"
    }
   ],
   "source": [
    "test_df.duplicated().sum()"
   ]
  },
  {
   "cell_type": "markdown",
   "id": "63a3771b",
   "metadata": {},
   "source": [
    "#### Inference\n",
    "1) There are no duplicates in train and test data."
   ]
  },
  {
   "cell_type": "markdown",
   "id": "0dbc7eae",
   "metadata": {},
   "source": [
    "#### 3) Checking the data type inconsistencies"
   ]
  },
  {
   "cell_type": "code",
   "execution_count": 16,
   "id": "28fdd763",
   "metadata": {},
   "outputs": [
    {
     "data": {
      "text/plain": [
       "int64     94\n",
       "object     1\n",
       "dtype: int64"
      ]
     },
     "execution_count": 16,
     "metadata": {},
     "output_type": "execute_result"
    }
   ],
   "source": [
    "train_df.dtypes.value_counts()"
   ]
  },
  {
   "cell_type": "code",
   "execution_count": 17,
   "id": "5e7a2583",
   "metadata": {},
   "outputs": [
    {
     "data": {
      "text/plain": [
       "int64    94\n",
       "dtype: int64"
      ]
     },
     "execution_count": 17,
     "metadata": {},
     "output_type": "execute_result"
    }
   ],
   "source": [
    "test_df.dtypes.value_counts()"
   ]
  },
  {
   "cell_type": "markdown",
   "id": "9eb8411c",
   "metadata": {},
   "source": [
    "#### 4) Target Variable"
   ]
  },
  {
   "cell_type": "code",
   "execution_count": 19,
   "id": "10f3f59a",
   "metadata": {
    "scrolled": true
   },
   "outputs": [
    {
     "data": {
      "text/plain": [
       "Class_2    16122\n",
       "Class_6    14135\n",
       "Class_8     8464\n",
       "Class_3     8004\n",
       "Class_9     4955\n",
       "Class_7     2839\n",
       "Class_5     2739\n",
       "Class_4     2691\n",
       "Class_1     1929\n",
       "Name: target, dtype: int64"
      ]
     },
     "execution_count": 19,
     "metadata": {},
     "output_type": "execute_result"
    }
   ],
   "source": [
    "train_df['target'].value_counts()"
   ]
  },
  {
   "cell_type": "markdown",
   "id": "17630eb7",
   "metadata": {},
   "source": [
    "### Correlation"
   ]
  },
  {
   "cell_type": "code",
   "execution_count": 20,
   "id": "4b6c542b",
   "metadata": {},
   "outputs": [],
   "source": [
    "corr = train_df.corr()"
   ]
  },
  {
   "cell_type": "markdown",
   "id": "dbbd966f",
   "metadata": {},
   "source": [
    "#### Representing Features having correlation more than 0.7"
   ]
  },
  {
   "cell_type": "code",
   "execution_count": 22,
   "id": "355b53a9",
   "metadata": {},
   "outputs": [
    {
     "data": {
      "image/png": "[encoded data removed]",
      "text/plain": [
       "<Figure size 4000x4000 with 2 Axes>"
      ]
     },
     "metadata": {},
     "output_type": "display_data"
    }
   ],
   "source": [
    "plt.figure(figsize=(40,40))\n",
    "sns.heatmap(corr[abs(corr)>0.7],annot=True,cmap='RdBu')\n",
    "plt.show()"
   ]
  },
  {
   "cell_type": "markdown",
   "id": "4d927ef2",
   "metadata": {},
   "source": [
    "### Selecting Dependent and Independent Features"
   ]
  },
  {
   "cell_type": "code",
   "execution_count": 25,
   "id": "d557c8a8",
   "metadata": {},
   "outputs": [
    {
     "name": "stdout",
     "output_type": "stream",
     "text": [
      "<class 'pandas.core.frame.DataFrame'>\n",
      "<class 'pandas.core.series.Series'>\n",
      "(61878, 93)\n",
      "(61878,)\n"
     ]
    }
   ],
   "source": [
    "x = train_df.drop(['id','target'],axis=1)\n",
    "y = train_df['target']\n",
    "print(type(x))  # DataFrame\n",
    "print(type(y))  # Series\n",
    "print(x.shape)\n",
    "print(y.shape)"
   ]
  },
  {
   "cell_type": "markdown",
   "id": "82ad406e",
   "metadata": {},
   "source": [
    "#### Spitting the data into train and test"
   ]
  },
  {
   "cell_type": "code",
   "execution_count": 26,
   "id": "9c19b1f0",
   "metadata": {},
   "outputs": [],
   "source": [
    "from sklearn.model_selection import train_test_split"
   ]
  },
  {
   "cell_type": "code",
   "execution_count": 28,
   "id": "84965baf",
   "metadata": {},
   "outputs": [
    {
     "name": "stdout",
     "output_type": "stream",
     "text": [
      "(43314, 93)\n",
      "(18564, 93)\n",
      "(43314,)\n",
      "(18564,)\n"
     ]
    }
   ],
   "source": [
    "x_train,x_test,y_train,y_test = train_test_split(x,y,test_size=0.30,random_state=42)\n",
    "print(x_train.shape)\n",
    "print(x_test.shape)\n",
    "print(y_train.shape)\n",
    "print(y_test.shape)"
   ]
  },
  {
   "cell_type": "markdown",
   "id": "c03b3a07",
   "metadata": {},
   "source": [
    "#### Create Function to evaluate confusion_matrix, classification_report and to generate train and test score"
   ]
  },
  {
   "cell_type": "code",
   "execution_count": 30,
   "id": "1fef81b2",
   "metadata": {},
   "outputs": [],
   "source": [
    "from sklearn.metrics import confusion_matrix, classification_report,accuracy_score"
   ]
  },
  {
   "cell_type": "code",
   "execution_count": 31,
   "id": "dce88ac4",
   "metadata": {},
   "outputs": [],
   "source": [
    "def eval_model(ytest,ypred):\n",
    "    cm = confusion_matrix(ytest,ypred)\n",
    "    print('Confusion Matrix\\n',cm)\n",
    "    print('Classification Report\\n',classification_report(ytest,ypred))\n",
    "    print('Test Acc',accuracy_score(ytest,ypred))\n",
    "    \n",
    "    \n",
    "def mscore(model):\n",
    "    print('Train Score', model.score(x_train,y_train))\n",
    "    print('Test Score', model.score(x_test,y_test))"
   ]
  },
  {
   "cell_type": "markdown",
   "id": "2a8a30f4",
   "metadata": {},
   "source": [
    "#### Importing libraries for ML models"
   ]
  },
  {
   "cell_type": "code",
   "execution_count": 33,
   "id": "d350bef5",
   "metadata": {},
   "outputs": [],
   "source": [
    "from sklearn.tree import DecisionTreeClassifier\n",
    "from sklearn.ensemble import RandomForestClassifier\n",
    "from sklearn.ensemble import AdaBoostClassifier\n",
    "from sklearn.neighbors import KNeighborsClassifier"
   ]
  },
  {
   "cell_type": "markdown",
   "id": "19c8f291",
   "metadata": {},
   "source": [
    "#### 1) KNN Classifier"
   ]
  },
  {
   "cell_type": "code",
   "execution_count": 35,
   "id": "1c11334e",
   "metadata": {},
   "outputs": [
    {
     "data": {
      "text/plain": [
       "KNeighborsClassifier(n_neighbors=17)"
      ]
     },
     "execution_count": 35,
     "metadata": {},
     "output_type": "execute_result"
    }
   ],
   "source": [
    "knn1 = KNeighborsClassifier(n_neighbors=17)\n",
    "knn1.fit(x_train,y_train)"
   ]
  },
  {
   "cell_type": "code",
   "execution_count": 36,
   "id": "6c0d1de6",
   "metadata": {},
   "outputs": [
    {
     "name": "stderr",
     "output_type": "stream",
     "text": [
      "C:\\Users\\Dell\\anaconda3\\lib\\site-packages\\sklearn\\neighbors\\_classification.py:228: FutureWarning: Unlike other reduction functions (e.g. `skew`, `kurtosis`), the default behavior of `mode` typically preserves the axis it acts along. In SciPy 1.11.0, this behavior will change: the default value of `keepdims` will become False, the `axis` over which the statistic is taken will be eliminated, and the value None will no longer be accepted. Set `keepdims` to True or False to avoid this warning.\n",
      "  mode, _ = stats.mode(_y[neigh_ind, k], axis=1)\n"
     ]
    },
    {
     "name": "stdout",
     "output_type": "stream",
     "text": [
      "Train Score 0.7958165950962737\n"
     ]
    },
    {
     "name": "stderr",
     "output_type": "stream",
     "text": [
      "C:\\Users\\Dell\\anaconda3\\lib\\site-packages\\sklearn\\neighbors\\_classification.py:228: FutureWarning: Unlike other reduction functions (e.g. `skew`, `kurtosis`), the default behavior of `mode` typically preserves the axis it acts along. In SciPy 1.11.0, this behavior will change: the default value of `keepdims` will become False, the `axis` over which the statistic is taken will be eliminated, and the value None will no longer be accepted. Set `keepdims` to True or False to avoid this warning.\n",
      "  mode, _ = stats.mode(_y[neigh_ind, k], axis=1)\n"
     ]
    },
    {
     "name": "stdout",
     "output_type": "stream",
     "text": [
      "Test Score 0.7754255548373196\n"
     ]
    }
   ],
   "source": [
    "mscore(knn1)"
   ]
  },
  {
   "cell_type": "code",
   "execution_count": 38,
   "id": "6dcd9498",
   "metadata": {},
   "outputs": [
    {
     "name": "stderr",
     "output_type": "stream",
     "text": [
      "C:\\Users\\Dell\\anaconda3\\lib\\site-packages\\sklearn\\neighbors\\_classification.py:228: FutureWarning: Unlike other reduction functions (e.g. `skew`, `kurtosis`), the default behavior of `mode` typically preserves the axis it acts along. In SciPy 1.11.0, this behavior will change: the default value of `keepdims` will become False, the `axis` over which the statistic is taken will be eliminated, and the value None will no longer be accepted. Set `keepdims` to True or False to avoid this warning.\n",
      "  mode, _ = stats.mode(_y[neigh_ind, k], axis=1)\n"
     ]
    },
    {
     "name": "stdout",
     "output_type": "stream",
     "text": [
      "Confusion Matrix\n",
      " [[ 277   23    3    0    5   37   15   82  145]\n",
      " [   4 4105  615   24   12    5   23    5    7]\n",
      " [   0 1235 1068   22    0    4   23    6    3]\n",
      " [   1  439  172  139    6   17   11    0    2]\n",
      " [   2   19    1    0  816    0    5    1    1]\n",
      " [  40   73    9    6    3 3936   58   86   79]\n",
      " [  30  112   80    3    9   51  490   63    8]\n",
      " [  49   50   14    0    3   67   31 2223   53]\n",
      " [  39   51    3    1    7   59    6   51 1341]]\n",
      "Classification Report\n",
      "               precision    recall  f1-score   support\n",
      "\n",
      "     Class_1       0.63      0.47      0.54       587\n",
      "     Class_2       0.67      0.86      0.75      4800\n",
      "     Class_3       0.54      0.45      0.49      2361\n",
      "     Class_4       0.71      0.18      0.28       787\n",
      "     Class_5       0.95      0.97      0.96       845\n",
      "     Class_6       0.94      0.92      0.93      4290\n",
      "     Class_7       0.74      0.58      0.65       846\n",
      "     Class_8       0.88      0.89      0.89      2490\n",
      "     Class_9       0.82      0.86      0.84      1558\n",
      "\n",
      "    accuracy                           0.78     18564\n",
      "   macro avg       0.77      0.69      0.70     18564\n",
      "weighted avg       0.77      0.78      0.76     18564\n",
      "\n",
      "Test Acc 0.7754255548373196\n"
     ]
    }
   ],
   "source": [
    "ypred_knn1 = knn1.predict(x_test)\n",
    "eval_model(y_test,ypred_knn1)"
   ]
  },
  {
   "cell_type": "markdown",
   "id": "6b4c4473",
   "metadata": {},
   "source": [
    "#### 2) Decision Tree Classifier"
   ]
  },
  {
   "cell_type": "code",
   "execution_count": 49,
   "id": "bbb8b66f",
   "metadata": {},
   "outputs": [
    {
     "data": {
      "text/plain": [
       "DecisionTreeClassifier(max_depth=17, min_samples_split=20)"
      ]
     },
     "execution_count": 49,
     "metadata": {},
     "output_type": "execute_result"
    }
   ],
   "source": [
    "dt1 = DecisionTreeClassifier(criterion='gini',\n",
    "                             max_depth=17,\n",
    "                             min_samples_split=20)\n",
    "dt1.fit(x_train,y_train)"
   ]
  },
  {
   "cell_type": "code",
   "execution_count": 50,
   "id": "81d3f340",
   "metadata": {},
   "outputs": [
    {
     "name": "stdout",
     "output_type": "stream",
     "text": [
      "Train Score 0.7575841529297687\n",
      "Test Score 0.709222150398621\n"
     ]
    }
   ],
   "source": [
    "mscore(dt1)"
   ]
  },
  {
   "cell_type": "code",
   "execution_count": 51,
   "id": "26cfa841",
   "metadata": {},
   "outputs": [
    {
     "name": "stdout",
     "output_type": "stream",
     "text": [
      "Confusion Matrix\n",
      " [[ 101   50    1    0    0   63   25  230  117]\n",
      " [  10 4056  456   70    4   45   34  102   23]\n",
      " [   4 1464  734   43    0   18   30   59    9]\n",
      " [   0  432   75  205    4   33   13   20    5]\n",
      " [   0   24    0    0  777    5    0   38    1]\n",
      " [  29   89   15   13    0 3857   45  187   55]\n",
      " [  17  186   38   12    3   80  318  173   19]\n",
      " [  56  103   24    5    3   94   35 2117   53]\n",
      " [  62   94    8    6    5  126   13  243 1001]]\n",
      "Classification Report\n",
      "               precision    recall  f1-score   support\n",
      "\n",
      "     Class_1       0.36      0.17      0.23       587\n",
      "     Class_2       0.62      0.84      0.72      4800\n",
      "     Class_3       0.54      0.31      0.40      2361\n",
      "     Class_4       0.58      0.26      0.36       787\n",
      "     Class_5       0.98      0.92      0.95       845\n",
      "     Class_6       0.89      0.90      0.90      4290\n",
      "     Class_7       0.62      0.38      0.47       846\n",
      "     Class_8       0.67      0.85      0.75      2490\n",
      "     Class_9       0.78      0.64      0.70      1558\n",
      "\n",
      "    accuracy                           0.71     18564\n",
      "   macro avg       0.67      0.59      0.61     18564\n",
      "weighted avg       0.70      0.71      0.69     18564\n",
      "\n",
      "Test Acc 0.709222150398621\n"
     ]
    }
   ],
   "source": [
    "ypred_dt1 = dt1.predict(x_test)\n",
    "eval_model(y_test,ypred_dt1)"
   ]
  },
  {
   "cell_type": "markdown",
   "id": "0c74cc6f",
   "metadata": {},
   "source": [
    "#### 3) RandomForest Classifier"
   ]
  },
  {
   "cell_type": "code",
   "execution_count": 64,
   "id": "a139ef83",
   "metadata": {},
   "outputs": [
    {
     "data": {
      "text/plain": [
       "RandomForestClassifier(max_depth=25, min_samples_split=30)"
      ]
     },
     "execution_count": 64,
     "metadata": {},
     "output_type": "execute_result"
    }
   ],
   "source": [
    "rf1 = RandomForestClassifier(n_estimators=100,criterion='gini',\n",
    "                             max_depth=25,min_samples_split=30)\n",
    "rf1.fit(x_train,y_train)"
   ]
  },
  {
   "cell_type": "code",
   "execution_count": 65,
   "id": "a5d3a3ec",
   "metadata": {},
   "outputs": [
    {
     "name": "stdout",
     "output_type": "stream",
     "text": [
      "Train Score 0.8473241907928153\n",
      "Test Score 0.7811893988364577\n"
     ]
    }
   ],
   "source": [
    "mscore(rf1)"
   ]
  },
  {
   "cell_type": "code",
   "execution_count": 56,
   "id": "e9a64c3c",
   "metadata": {},
   "outputs": [
    {
     "name": "stdout",
     "output_type": "stream",
     "text": [
      "Confusion Matrix\n",
      " [[   9   80    0    0    1   81    3  250  163]\n",
      " [   0 4638  116    2    7   13    4   18    2]\n",
      " [   0 2023  302    7    0    8    1   17    3]\n",
      " [   0  644    8   94    4   37    0    0    0]\n",
      " [   0   47    0    0  785    3    0    9    1]\n",
      " [   0  113    0    0    0 4004   18  105   50]\n",
      " [   0  313   11    7    2   94  205  203   11]\n",
      " [   0   77    1    0    1   89    0 2293   29]\n",
      " [   0  135    0    0    4  123    0  127 1169]]\n",
      "Classification Report\n",
      "               precision    recall  f1-score   support\n",
      "\n",
      "     Class_1       1.00      0.02      0.03       587\n",
      "     Class_2       0.57      0.97      0.72      4800\n",
      "     Class_3       0.69      0.13      0.22      2361\n",
      "     Class_4       0.85      0.12      0.21       787\n",
      "     Class_5       0.98      0.93      0.95       845\n",
      "     Class_6       0.90      0.93      0.92      4290\n",
      "     Class_7       0.89      0.24      0.38       846\n",
      "     Class_8       0.76      0.92      0.83      2490\n",
      "     Class_9       0.82      0.75      0.78      1558\n",
      "\n",
      "    accuracy                           0.73     18564\n",
      "   macro avg       0.83      0.56      0.56     18564\n",
      "weighted avg       0.77      0.73      0.67     18564\n",
      "\n",
      "Test Acc 0.7271600948071536\n"
     ]
    }
   ],
   "source": [
    "ypred_rf1 = rf1.predict(x_test)\n",
    "eval_model(y_test,ypred_rf1)"
   ]
  },
  {
   "cell_type": "markdown",
   "id": "8e9563d3",
   "metadata": {},
   "source": [
    "#### 4) AdaBoost Classifier"
   ]
  },
  {
   "cell_type": "code",
   "execution_count": 59,
   "id": "7d8a7706",
   "metadata": {},
   "outputs": [
    {
     "data": {
      "text/plain": [
       "AdaBoostClassifier(n_estimators=90)"
      ]
     },
     "execution_count": 59,
     "metadata": {},
     "output_type": "execute_result"
    }
   ],
   "source": [
    "adab1 = AdaBoostClassifier(n_estimators=90)\n",
    "adab1.fit(x_train,y_train)"
   ]
  },
  {
   "cell_type": "code",
   "execution_count": 60,
   "id": "1c00b4de",
   "metadata": {},
   "outputs": [
    {
     "name": "stdout",
     "output_type": "stream",
     "text": [
      "Train Score 0.6900540241030614\n",
      "Test Score 0.688375350140056\n"
     ]
    }
   ],
   "source": [
    "mscore(adab1)"
   ]
  },
  {
   "cell_type": "code",
   "execution_count": 62,
   "id": "6ed04baa",
   "metadata": {},
   "outputs": [
    {
     "name": "stdout",
     "output_type": "stream",
     "text": [
      "Confusion Matrix\n",
      " [[ 153   15    3    2    6   71   40  151  146]\n",
      " [  10 3765  567  229   41   18   79   81   10]\n",
      " [   3 1396  580  143   16   12  138   65    8]\n",
      " [   2  373   91  248    6   27   36    2    2]\n",
      " [   1   20    0    1  811    2    2    4    4]\n",
      " [  47   44    7   23    1 3940   53   96   79]\n",
      " [  40  110   56    9    7  118  385  102   19]\n",
      " [ 114   35    8    1    3  231   88 1846  164]\n",
      " [ 190   56    2    3    4  105   10  137 1051]]\n",
      "Classification Report\n",
      "               precision    recall  f1-score   support\n",
      "\n",
      "     Class_1       0.27      0.26      0.27       587\n",
      "     Class_2       0.65      0.78      0.71      4800\n",
      "     Class_3       0.44      0.25      0.32      2361\n",
      "     Class_4       0.38      0.32      0.34       787\n",
      "     Class_5       0.91      0.96      0.93       845\n",
      "     Class_6       0.87      0.92      0.89      4290\n",
      "     Class_7       0.46      0.46      0.46       846\n",
      "     Class_8       0.74      0.74      0.74      2490\n",
      "     Class_9       0.71      0.67      0.69      1558\n",
      "\n",
      "    accuracy                           0.69     18564\n",
      "   macro avg       0.60      0.60      0.59     18564\n",
      "weighted avg       0.67      0.69      0.67     18564\n",
      "\n",
      "Test Acc 0.688375350140056\n"
     ]
    }
   ],
   "source": [
    "ypred_adab1 = adab1.predict(x_test)\n",
    "eval_model(y_test,ypred_adab1)"
   ]
  },
  {
   "cell_type": "markdown",
   "id": "b0be1369",
   "metadata": {},
   "source": [
    "### Inference\n",
    "1) RF is the best performing model out of KNN, DT, RF and Adaboost. "
   ]
  },
  {
   "cell_type": "markdown",
   "id": "b3c44096",
   "metadata": {},
   "source": [
    "### PCA"
   ]
  },
  {
   "cell_type": "code",
   "execution_count": 63,
   "id": "b3a1b396",
   "metadata": {},
   "outputs": [],
   "source": [
    "from sklearn.decomposition import PCA"
   ]
  },
  {
   "cell_type": "code",
   "execution_count": 66,
   "id": "683d8186",
   "metadata": {},
   "outputs": [
    {
     "name": "stdout",
     "output_type": "stream",
     "text": [
      "(43314, 10)\n",
      "(18564, 10)\n"
     ]
    }
   ],
   "source": [
    "pca = PCA(n_components=10)\n",
    "\n",
    "pcomps_train = pca.fit_transform(x_train)\n",
    "pcomps_test = pca.transform(x_test)\n",
    "\n",
    "print(pcomps_train.shape)\n",
    "print(pcomps_test.shape)"
   ]
  },
  {
   "cell_type": "markdown",
   "id": "c3f1d6af",
   "metadata": {},
   "source": [
    "#### Applying RF on PCA results"
   ]
  },
  {
   "cell_type": "code",
   "execution_count": 67,
   "id": "267de075",
   "metadata": {},
   "outputs": [
    {
     "data": {
      "text/plain": [
       "RandomForestClassifier(max_depth=25, min_samples_split=30)"
      ]
     },
     "execution_count": 67,
     "metadata": {},
     "output_type": "execute_result"
    }
   ],
   "source": [
    "rf2 = RandomForestClassifier(n_estimators=100,criterion='gini',\n",
    "                             max_depth=25,min_samples_split=30)\n",
    "rf2.fit(pcomps_train,y_train)"
   ]
  },
  {
   "cell_type": "code",
   "execution_count": 68,
   "id": "51170d61",
   "metadata": {},
   "outputs": [
    {
     "name": "stdout",
     "output_type": "stream",
     "text": [
      "Train Score 0.8287620630742947\n",
      "Test Score 0.7175177763413058\n"
     ]
    }
   ],
   "source": [
    "print('Train Score',rf2.score(pcomps_train,y_train))\n",
    "print('Test Score',rf2.score(pcomps_test,y_test))\n",
    "\n",
    "# Over fit Model"
   ]
  },
  {
   "cell_type": "code",
   "execution_count": 69,
   "id": "496c8d4f",
   "metadata": {},
   "outputs": [
    {
     "name": "stdout",
     "output_type": "stream",
     "text": [
      "Confusion Matrix\n",
      " [[  47   22    4    0    6   90   25  232  161]\n",
      " [   1 4105  558   14   14   15   32   39   22]\n",
      " [   0 1417  849    7    1   16   32   33    6]\n",
      " [   2  511  174   47    2   20   14    7   10]\n",
      " [   0   24    7    0  744   22   13   33    2]\n",
      " [   7   67    9    0   19 3794   59  197  138]\n",
      " [   2  118   64    2    7   68  423  145   17]\n",
      " [  13   47   11    2   13  212   30 2091   71]\n",
      " [  14   44    2    0    1  100    6  171 1220]]\n",
      "Classification Report\n",
      "               precision    recall  f1-score   support\n",
      "\n",
      "     Class_1       0.55      0.08      0.14       587\n",
      "     Class_2       0.65      0.86      0.74      4800\n",
      "     Class_3       0.51      0.36      0.42      2361\n",
      "     Class_4       0.65      0.06      0.11       787\n",
      "     Class_5       0.92      0.88      0.90       845\n",
      "     Class_6       0.87      0.88      0.88      4290\n",
      "     Class_7       0.67      0.50      0.57       846\n",
      "     Class_8       0.71      0.84      0.77      2490\n",
      "     Class_9       0.74      0.78      0.76      1558\n",
      "\n",
      "    accuracy                           0.72     18564\n",
      "   macro avg       0.70      0.58      0.59     18564\n",
      "weighted avg       0.71      0.72      0.69     18564\n",
      "\n",
      "Test Acc 0.7175177763413058\n"
     ]
    }
   ],
   "source": [
    "ypred_rf2 = rf2.predict(pcomps_test)\n",
    "eval_model(y_test,ypred_rf2)"
   ]
  },
  {
   "cell_type": "markdown",
   "id": "912303ca",
   "metadata": {},
   "source": [
    "#### Train the entire Data on the best performing model"
   ]
  },
  {
   "cell_type": "code",
   "execution_count": 71,
   "id": "d45eb6cf",
   "metadata": {},
   "outputs": [
    {
     "data": {
      "text/plain": [
       "RandomForestClassifier(max_depth=25, min_samples_split=30)"
      ]
     },
     "execution_count": 71,
     "metadata": {},
     "output_type": "execute_result"
    }
   ],
   "source": [
    "rf1.fit(x,y)"
   ]
  },
  {
   "cell_type": "code",
   "execution_count": 72,
   "id": "f8855dce",
   "metadata": {},
   "outputs": [
    {
     "name": "stdout",
     "output_type": "stream",
     "text": [
      "Train Score 0.8499466692523999\n"
     ]
    }
   ],
   "source": [
    "print('Train Score',rf1.score(x,y))"
   ]
  },
  {
   "cell_type": "code",
   "execution_count": 73,
   "id": "16f61674",
   "metadata": {},
   "outputs": [
    {
     "data": {
      "text/plain": [
       "(144368, 94)"
      ]
     },
     "execution_count": 73,
     "metadata": {},
     "output_type": "execute_result"
    }
   ],
   "source": [
    "test_df.shape"
   ]
  },
  {
   "cell_type": "code",
   "execution_count": 75,
   "id": "a1d91b45",
   "metadata": {},
   "outputs": [],
   "source": [
    "test_df1 = test_df.copy()"
   ]
  },
  {
   "cell_type": "code",
   "execution_count": 76,
   "id": "6882b834",
   "metadata": {},
   "outputs": [
    {
     "data": {
      "text/plain": [
       "(144368, 93)"
      ]
     },
     "execution_count": 76,
     "metadata": {},
     "output_type": "execute_result"
    }
   ],
   "source": [
    "test_df.drop('id',axis=1,inplace=True)\n",
    "test_df.shape"
   ]
  },
  {
   "cell_type": "markdown",
   "id": "7dbe579b",
   "metadata": {},
   "source": [
    "#### Generating Prediction results for test data"
   ]
  },
  {
   "cell_type": "code",
   "execution_count": 78,
   "id": "af75e1d6",
   "metadata": {},
   "outputs": [
    {
     "name": "stdout",
     "output_type": "stream",
     "text": [
      "144368\n"
     ]
    }
   ],
   "source": [
    "ypred_test_df = rf1.predict(test_df)\n",
    "print(len(ypred_test_df))"
   ]
  },
  {
   "cell_type": "markdown",
   "id": "d69c35fd",
   "metadata": {},
   "source": [
    "#### Generating the submission File"
   ]
  },
  {
   "cell_type": "code",
   "execution_count": 79,
   "id": "74c9ab7d",
   "metadata": {},
   "outputs": [
    {
     "data": {
      "text/html": [
       "<div>\n",
       "<style scoped>\n",
       "    .dataframe tbody tr th:only-of-type {\n",
       "        vertical-align: middle;\n",
       "    }\n",
       "\n",
       "    .dataframe tbody tr th {\n",
       "        vertical-align: top;\n",
       "    }\n",
       "\n",
       "    .dataframe thead th {\n",
       "        text-align: right;\n",
       "    }\n",
       "</style>\n",
       "<table border=\"1\" class=\"dataframe\">\n",
       "  <thead>\n",
       "    <tr style=\"text-align: right;\">\n",
       "      <th></th>\n",
       "      <th>ID</th>\n",
       "      <th>Prediction</th>\n",
       "    </tr>\n",
       "  </thead>\n",
       "  <tbody>\n",
       "    <tr>\n",
       "      <th>0</th>\n",
       "      <td>1</td>\n",
       "      <td>Class_4</td>\n",
       "    </tr>\n",
       "    <tr>\n",
       "      <th>1</th>\n",
       "      <td>2</td>\n",
       "      <td>Class_6</td>\n",
       "    </tr>\n",
       "    <tr>\n",
       "      <th>2</th>\n",
       "      <td>3</td>\n",
       "      <td>Class_6</td>\n",
       "    </tr>\n",
       "    <tr>\n",
       "      <th>3</th>\n",
       "      <td>4</td>\n",
       "      <td>Class_2</td>\n",
       "    </tr>\n",
       "    <tr>\n",
       "      <th>4</th>\n",
       "      <td>5</td>\n",
       "      <td>Class_9</td>\n",
       "    </tr>\n",
       "    <tr>\n",
       "      <th>5</th>\n",
       "      <td>6</td>\n",
       "      <td>Class_3</td>\n",
       "    </tr>\n",
       "    <tr>\n",
       "      <th>6</th>\n",
       "      <td>7</td>\n",
       "      <td>Class_8</td>\n",
       "    </tr>\n",
       "    <tr>\n",
       "      <th>7</th>\n",
       "      <td>8</td>\n",
       "      <td>Class_2</td>\n",
       "    </tr>\n",
       "    <tr>\n",
       "      <th>8</th>\n",
       "      <td>9</td>\n",
       "      <td>Class_3</td>\n",
       "    </tr>\n",
       "    <tr>\n",
       "      <th>9</th>\n",
       "      <td>10</td>\n",
       "      <td>Class_2</td>\n",
       "    </tr>\n",
       "    <tr>\n",
       "      <th>10</th>\n",
       "      <td>11</td>\n",
       "      <td>Class_2</td>\n",
       "    </tr>\n",
       "    <tr>\n",
       "      <th>11</th>\n",
       "      <td>12</td>\n",
       "      <td>Class_9</td>\n",
       "    </tr>\n",
       "    <tr>\n",
       "      <th>12</th>\n",
       "      <td>13</td>\n",
       "      <td>Class_5</td>\n",
       "    </tr>\n",
       "    <tr>\n",
       "      <th>13</th>\n",
       "      <td>14</td>\n",
       "      <td>Class_2</td>\n",
       "    </tr>\n",
       "    <tr>\n",
       "      <th>14</th>\n",
       "      <td>15</td>\n",
       "      <td>Class_2</td>\n",
       "    </tr>\n",
       "    <tr>\n",
       "      <th>15</th>\n",
       "      <td>16</td>\n",
       "      <td>Class_8</td>\n",
       "    </tr>\n",
       "    <tr>\n",
       "      <th>16</th>\n",
       "      <td>17</td>\n",
       "      <td>Class_6</td>\n",
       "    </tr>\n",
       "    <tr>\n",
       "      <th>17</th>\n",
       "      <td>18</td>\n",
       "      <td>Class_6</td>\n",
       "    </tr>\n",
       "    <tr>\n",
       "      <th>18</th>\n",
       "      <td>19</td>\n",
       "      <td>Class_5</td>\n",
       "    </tr>\n",
       "    <tr>\n",
       "      <th>19</th>\n",
       "      <td>20</td>\n",
       "      <td>Class_2</td>\n",
       "    </tr>\n",
       "  </tbody>\n",
       "</table>\n",
       "</div>"
      ],
      "text/plain": [
       "    ID Prediction\n",
       "0    1    Class_4\n",
       "1    2    Class_6\n",
       "2    3    Class_6\n",
       "3    4    Class_2\n",
       "4    5    Class_9\n",
       "5    6    Class_3\n",
       "6    7    Class_8\n",
       "7    8    Class_2\n",
       "8    9    Class_3\n",
       "9   10    Class_2\n",
       "10  11    Class_2\n",
       "11  12    Class_9\n",
       "12  13    Class_5\n",
       "13  14    Class_2\n",
       "14  15    Class_2\n",
       "15  16    Class_8\n",
       "16  17    Class_6\n",
       "17  18    Class_6\n",
       "18  19    Class_5\n",
       "19  20    Class_2"
      ]
     },
     "execution_count": 79,
     "metadata": {},
     "output_type": "execute_result"
    }
   ],
   "source": [
    "submission = pd.DataFrame({'ID':test_df1['id'],'Prediction':ypred_test_df})\n",
    "submission.head(20)"
   ]
  },
  {
   "cell_type": "code",
   "execution_count": 80,
   "id": "64cbbfbe",
   "metadata": {},
   "outputs": [
    {
     "data": {
      "text/plain": [
       "Class_2    52514\n",
       "Class_6    33572\n",
       "Class_8    22005\n",
       "Class_9    11960\n",
       "Class_3    10009\n",
       "Class_5     6160\n",
       "Class_7     4360\n",
       "Class_4     2355\n",
       "Class_1     1433\n",
       "Name: Prediction, dtype: int64"
      ]
     },
     "execution_count": 80,
     "metadata": {},
     "output_type": "execute_result"
    }
   ],
   "source": [
    "submission['Prediction'].value_counts()"
   ]
  },
  {
   "cell_type": "markdown",
   "id": "ef37a436",
   "metadata": {},
   "source": [
    "#### Save this submission File"
   ]
  },
  {
   "cell_type": "code",
   "execution_count": 81,
   "id": "bef926fe",
   "metadata": {},
   "outputs": [],
   "source": [
    "submission.to_csv('submission_otto_product_cls_9Apr.csv')"
   ]
  },
  {
   "cell_type": "markdown",
   "id": "32fb8027",
   "metadata": {},
   "source": [
    "#### Save the Model"
   ]
  },
  {
   "cell_type": "code",
   "execution_count": 82,
   "id": "ed678d6d",
   "metadata": {},
   "outputs": [],
   "source": [
    "import pickle"
   ]
  },
  {
   "cell_type": "code",
   "execution_count": 84,
   "id": "c03deba6",
   "metadata": {},
   "outputs": [],
   "source": [
    "pickle.dump(rf1,open('otto_product_cls_rf1.pkl','wb'))  # wb = write binary"
   ]
  },
  {
   "cell_type": "markdown",
   "id": "6da0f65d",
   "metadata": {},
   "source": [
    "#### Load the saved model"
   ]
  },
  {
   "cell_type": "code",
   "execution_count": 85,
   "id": "69326a1a",
   "metadata": {},
   "outputs": [],
   "source": [
    "model = pickle.load(open('otto_product_cls_rf1.pkl','rb'))  # rb = read binary"
   ]
  },
  {
   "cell_type": "code",
   "execution_count": 86,
   "id": "1ab779a9",
   "metadata": {},
   "outputs": [
    {
     "data": {
      "text/html": [
       "<div>\n",
       "<style scoped>\n",
       "    .dataframe tbody tr th:only-of-type {\n",
       "        vertical-align: middle;\n",
       "    }\n",
       "\n",
       "    .dataframe tbody tr th {\n",
       "        vertical-align: top;\n",
       "    }\n",
       "\n",
       "    .dataframe thead th {\n",
       "        text-align: right;\n",
       "    }\n",
       "</style>\n",
       "<table border=\"1\" class=\"dataframe\">\n",
       "  <thead>\n",
       "    <tr style=\"text-align: right;\">\n",
       "      <th></th>\n",
       "      <th>feat_1</th>\n",
       "      <th>feat_2</th>\n",
       "      <th>feat_3</th>\n",
       "      <th>feat_4</th>\n",
       "      <th>feat_5</th>\n",
       "      <th>feat_6</th>\n",
       "      <th>feat_7</th>\n",
       "      <th>feat_8</th>\n",
       "      <th>feat_9</th>\n",
       "      <th>feat_10</th>\n",
       "      <th>...</th>\n",
       "      <th>feat_84</th>\n",
       "      <th>feat_85</th>\n",
       "      <th>feat_86</th>\n",
       "      <th>feat_87</th>\n",
       "      <th>feat_88</th>\n",
       "      <th>feat_89</th>\n",
       "      <th>feat_90</th>\n",
       "      <th>feat_91</th>\n",
       "      <th>feat_92</th>\n",
       "      <th>feat_93</th>\n",
       "    </tr>\n",
       "  </thead>\n",
       "  <tbody>\n",
       "    <tr>\n",
       "      <th>0</th>\n",
       "      <td>0</td>\n",
       "      <td>0</td>\n",
       "      <td>0</td>\n",
       "      <td>0</td>\n",
       "      <td>0</td>\n",
       "      <td>0</td>\n",
       "      <td>0</td>\n",
       "      <td>0</td>\n",
       "      <td>0</td>\n",
       "      <td>3</td>\n",
       "      <td>...</td>\n",
       "      <td>0</td>\n",
       "      <td>0</td>\n",
       "      <td>11</td>\n",
       "      <td>1</td>\n",
       "      <td>20</td>\n",
       "      <td>0</td>\n",
       "      <td>0</td>\n",
       "      <td>0</td>\n",
       "      <td>0</td>\n",
       "      <td>0</td>\n",
       "    </tr>\n",
       "    <tr>\n",
       "      <th>1</th>\n",
       "      <td>2</td>\n",
       "      <td>2</td>\n",
       "      <td>14</td>\n",
       "      <td>16</td>\n",
       "      <td>0</td>\n",
       "      <td>0</td>\n",
       "      <td>0</td>\n",
       "      <td>0</td>\n",
       "      <td>0</td>\n",
       "      <td>0</td>\n",
       "      <td>...</td>\n",
       "      <td>0</td>\n",
       "      <td>0</td>\n",
       "      <td>0</td>\n",
       "      <td>0</td>\n",
       "      <td>0</td>\n",
       "      <td>4</td>\n",
       "      <td>0</td>\n",
       "      <td>0</td>\n",
       "      <td>2</td>\n",
       "      <td>0</td>\n",
       "    </tr>\n",
       "    <tr>\n",
       "      <th>2</th>\n",
       "      <td>0</td>\n",
       "      <td>1</td>\n",
       "      <td>12</td>\n",
       "      <td>1</td>\n",
       "      <td>0</td>\n",
       "      <td>0</td>\n",
       "      <td>0</td>\n",
       "      <td>0</td>\n",
       "      <td>0</td>\n",
       "      <td>0</td>\n",
       "      <td>...</td>\n",
       "      <td>0</td>\n",
       "      <td>0</td>\n",
       "      <td>0</td>\n",
       "      <td>0</td>\n",
       "      <td>2</td>\n",
       "      <td>0</td>\n",
       "      <td>0</td>\n",
       "      <td>0</td>\n",
       "      <td>0</td>\n",
       "      <td>1</td>\n",
       "    </tr>\n",
       "    <tr>\n",
       "      <th>3</th>\n",
       "      <td>0</td>\n",
       "      <td>0</td>\n",
       "      <td>0</td>\n",
       "      <td>1</td>\n",
       "      <td>0</td>\n",
       "      <td>0</td>\n",
       "      <td>0</td>\n",
       "      <td>0</td>\n",
       "      <td>0</td>\n",
       "      <td>0</td>\n",
       "      <td>...</td>\n",
       "      <td>0</td>\n",
       "      <td>3</td>\n",
       "      <td>1</td>\n",
       "      <td>0</td>\n",
       "      <td>0</td>\n",
       "      <td>0</td>\n",
       "      <td>0</td>\n",
       "      <td>0</td>\n",
       "      <td>0</td>\n",
       "      <td>0</td>\n",
       "    </tr>\n",
       "    <tr>\n",
       "      <th>4</th>\n",
       "      <td>1</td>\n",
       "      <td>0</td>\n",
       "      <td>0</td>\n",
       "      <td>1</td>\n",
       "      <td>0</td>\n",
       "      <td>0</td>\n",
       "      <td>1</td>\n",
       "      <td>2</td>\n",
       "      <td>0</td>\n",
       "      <td>3</td>\n",
       "      <td>...</td>\n",
       "      <td>0</td>\n",
       "      <td>0</td>\n",
       "      <td>0</td>\n",
       "      <td>0</td>\n",
       "      <td>0</td>\n",
       "      <td>0</td>\n",
       "      <td>0</td>\n",
       "      <td>9</td>\n",
       "      <td>0</td>\n",
       "      <td>0</td>\n",
       "    </tr>\n",
       "  </tbody>\n",
       "</table>\n",
       "<p>5 rows × 93 columns</p>\n",
       "</div>"
      ],
      "text/plain": [
       "   feat_1  feat_2  feat_3  feat_4  feat_5  feat_6  feat_7  feat_8  feat_9  \\\n",
       "0       0       0       0       0       0       0       0       0       0   \n",
       "1       2       2      14      16       0       0       0       0       0   \n",
       "2       0       1      12       1       0       0       0       0       0   \n",
       "3       0       0       0       1       0       0       0       0       0   \n",
       "4       1       0       0       1       0       0       1       2       0   \n",
       "\n",
       "   feat_10  ...  feat_84  feat_85  feat_86  feat_87  feat_88  feat_89  \\\n",
       "0        3  ...        0        0       11        1       20        0   \n",
       "1        0  ...        0        0        0        0        0        4   \n",
       "2        0  ...        0        0        0        0        2        0   \n",
       "3        0  ...        0        3        1        0        0        0   \n",
       "4        3  ...        0        0        0        0        0        0   \n",
       "\n",
       "   feat_90  feat_91  feat_92  feat_93  \n",
       "0        0        0        0        0  \n",
       "1        0        0        2        0  \n",
       "2        0        0        0        1  \n",
       "3        0        0        0        0  \n",
       "4        0        9        0        0  \n",
       "\n",
       "[5 rows x 93 columns]"
      ]
     },
     "execution_count": 86,
     "metadata": {},
     "output_type": "execute_result"
    }
   ],
   "source": [
    "test_df[:5]"
   ]
  },
  {
   "cell_type": "code",
   "execution_count": 88,
   "id": "a53b2781",
   "metadata": {},
   "outputs": [
    {
     "data": {
      "text/plain": [
       "array(['Class_4', 'Class_6', 'Class_6', 'Class_2', 'Class_9'],\n",
       "      dtype=object)"
      ]
     },
     "execution_count": 88,
     "metadata": {},
     "output_type": "execute_result"
    }
   ],
   "source": [
    "pred_top5_test = model.predict(test_df[:5])\n",
    "pred_top5_test"
   ]
  },
  {
   "cell_type": "code",
   "execution_count": null,
   "id": "9a9ac206",
   "metadata": {},
   "outputs": [],
   "source": []
  }
 ],
 "metadata": {
  "kernelspec": {
   "display_name": "Python 3 (ipykernel)",
   "language": "python",
   "name": "python3"
  },
  "language_info": {
   "codemirror_mode": {
    "name": "ipython",
    "version": 3
   },
   "file_extension": ".py",
   "mimetype": "text/x-python",
   "name": "python",
   "nbconvert_exporter": "python",
   "pygments_lexer": "ipython3",
   "version": "3.9.13"
  }
 },
 "nbformat": 4,
 "nbformat_minor": 5
}
